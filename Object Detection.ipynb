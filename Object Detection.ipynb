{
 "cells": [
  {
   "cell_type": "markdown",
   "id": "9c11f4a9",
   "metadata": {},
   "source": [
    "# Dataset Preparation | Detecting the products"
   ]
  },
  {
   "cell_type": "code",
   "execution_count": 151,
   "id": "39cd5e58",
   "metadata": {},
   "outputs": [],
   "source": [
    "import numpy as np\n",
    "import pandas as pd\n",
    "import cv2\n",
    "import matplotlib.pyplot as plt\n",
    "import os\n",
    "\n",
    "from PIL import Image\n",
    "from warnings import filterwarnings as w; w('ignore')\n"
   ]
  },
  {
   "cell_type": "markdown",
   "id": "8a1146c1",
   "metadata": {},
   "source": [
    "## Define Paths"
   ]
  },
  {
   "cell_type": "code",
   "execution_count": null,
   "id": "01fa62e6",
   "metadata": {},
   "outputs": [],
   "source": [
    "#paths to the saved model and label map\n",
    "my_model = 'ssd_mobilenet_v2'\n",
    "training_path = \"Tensorflow/workspace/Training/\"\n",
    "exported_model_path = training_path + 'exported_models/' + my_model +'/'\n",
    "label_path = training_path + 'annotations/label_map.pbtxt'"
   ]
  },
  {
   "cell_type": "markdown",
   "id": "9075b53f",
   "metadata": {},
   "source": [
    "## Change the 'name' tag in all xml files to 'product'."
   ]
  },
  {
   "cell_type": "code",
   "execution_count": null,
   "id": "762c2c7d",
   "metadata": {
    "scrolled": false
   },
   "outputs": [],
   "source": [
    "\n",
    "cols = ['img_name', 'xmin','ymin','xmax','ymax', 'dntknow']\n",
    "xmls_paths = 'annotations/newst/train/'\n",
    "xml_name = os.listdir(xmls_paths)\n",
    "xml_names = []\n",
    "for file in xml_name:\n",
    "    if file.endswith(\".xml\"):\n",
    "        xml_names.append(file)\n",
    "        \n",
    "import xml.etree.ElementTree as et\n",
    "\n",
    "\n",
    "for file in xml_names:\n",
    "    tree = et.parse(xmls_paths + file)\n",
    "    root = tree.getroot()\n",
    "    for i in root.findall('object'):\n",
    "        name = i.find('name')\n",
    "        name.text = 'product'\n",
    "    tree.write(xmls_paths+file)\n",
    " "
   ]
  },
  {
   "cell_type": "markdown",
   "id": "b8a00635",
   "metadata": {},
   "source": [
    "## Label Map: (1 detection class)"
   ]
  },
  {
   "cell_type": "code",
   "execution_count": null,
   "id": "24d10439",
   "metadata": {},
   "outputs": [],
   "source": [
    "annot_path = 'Tensorflow/workspace/Training/annotations/'\n",
    "\n",
    "labels = [{'name':'product', 'id':1}]\n",
    "\n",
    "with open(annot_path +'label_map.pbtxt', 'w') as f:\n",
    "    for label in labels:\n",
    "        f.write('item{\\n')\n",
    "        f.write('\\tname:\\'{}\\'\\n'.format(label['name']))\n",
    "        f.write('\\tid:{}\\n'.format(label['id']))\n",
    "        f.write('}\\n')"
   ]
  },
  {
   "cell_type": "markdown",
   "id": "a891e07a",
   "metadata": {},
   "source": [
    "## Generate tf records \n",
    "* For the train and test set we created"
   ]
  },
  {
   "cell_type": "code",
   "execution_count": null,
   "id": "02baf8b6",
   "metadata": {},
   "outputs": [],
   "source": [
    "%cd Tensorflow/scripts\n",
    "!wget https://tensorflow-object-detection-api-tutorial.readthedocs.io/en/latest/_downloads/da4babe668a8afb093cc7776d7e630f3/generate_tfrecord.py   \n",
    "%cd ../..    "
   ]
  },
  {
   "cell_type": "markdown",
   "id": "8ad81295",
   "metadata": {},
   "source": [
    "* edit the 'class_text_to_int' function in the above script to fit the product class"
   ]
  },
  {
   "cell_type": "code",
   "execution_count": null,
   "id": "7bc5902b",
   "metadata": {},
   "outputs": [],
   "source": [
    "#Train set\n",
    "!python Tensorflow/scripts/generate_tfrecord.py -x {training_path+ 'images/train'} -l {label_path} -o {training_path+'annotations/train.record'}\n",
    "\n",
    "#Test set\n",
    "!python Tensorflow/scripts/generate_tfrecord.py -x {training_path+ 'images/test'} -l {label_path} -o {training_path+'annotations/test.record'}\n",
    "\n"
   ]
  },
  {
   "cell_type": "markdown",
   "id": "9a3a58c6",
   "metadata": {},
   "source": [
    "* The train.record and test.record binary files are copied to drive for training"
   ]
  },
  {
   "cell_type": "markdown",
   "id": "30184836",
   "metadata": {},
   "source": [
    "## Function to write image to disk"
   ]
  },
  {
   "cell_type": "code",
   "execution_count": null,
   "id": "b20da9de",
   "metadata": {},
   "outputs": [],
   "source": [
    "def write(name, img):\n",
    "    to = 'trial/images' + name \n",
    "    print(\"Writing to Disk: \", to)\n",
    "    cv2.imwrite(to, img)"
   ]
  },
  {
   "cell_type": "markdown",
   "id": "215c1374",
   "metadata": {},
   "source": [
    "## Dependancies for custom detection"
   ]
  },
  {
   "cell_type": "code",
   "execution_count": 156,
   "id": "b1462f69",
   "metadata": {},
   "outputs": [],
   "source": [
    "from object_detection.utils import label_map_util\n",
    "from object_detection.utils import visualization_utils as viz_utils\n",
    "from object_detection.builders import model_builder\n",
    "from object_detection.utils import config_util\n",
    "from object_detection.protos import pipeline_pb2\n",
    "from google.protobuf import text_format\n",
    "import time\n",
    "import tensorflow as tf"
   ]
  },
  {
   "cell_type": "markdown",
   "id": "303ad6bf",
   "metadata": {},
   "source": [
    "## Loading the trained model"
   ]
  },
  {
   "cell_type": "code",
   "execution_count": 218,
   "id": "96527638",
   "metadata": {
    "scrolled": true
   },
   "outputs": [
    {
     "name": "stdout",
     "output_type": "stream",
     "text": [
      "Loading model...Done! Took 17.23454999923706 seconds\n"
     ]
    }
   ],
   "source": [
    "#Paths to the test set images\n",
    "from imutils import paths\n",
    "image_paths= list(paths.list_images('ShelfImages/test'))\n",
    "image_paths.sort\n",
    "\n",
    "\n",
    "PATH_TO_SAVED_MODEL = exported_model_path + \"saved_model\"\n",
    "\n",
    "print('Loading model...', end='')\n",
    "start_time = time.time()\n",
    "\n",
    "# Load saved model and build the detection function\n",
    "detect_fn = tf.saved_model.load(PATH_TO_SAVED_MODEL)\n",
    "\n",
    "end_time = time.time()\n",
    "elapsed_time = end_time - start_time\n",
    "print('Done! Took {} seconds'.format(elapsed_time))\n",
    "\n",
    "\n",
    "#load label_map\n",
    "category_index = label_map_util.create_category_index_from_labelmap(label_path, use_display_name=True)\n",
    "\n",
    "dicto = {}\n"
   ]
  },
  {
   "cell_type": "code",
   "execution_count": 252,
   "id": "184c01f3",
   "metadata": {},
   "outputs": [],
   "source": [
    "def load_image_into_np_array(path):\n",
    "    return np.array(Image.open(path))"
   ]
  },
  {
   "cell_type": "markdown",
   "id": "677f46c9",
   "metadata": {},
   "source": [
    "## Detection"
   ]
  },
  {
   "cell_type": "code",
   "execution_count": 290,
   "id": "3ebf7730",
   "metadata": {},
   "outputs": [],
   "source": [
    "def detectboxes(detect_fn, path, thresh):    \n",
    "    image_np = load_image_into_np_array(path)\n",
    "    img_name = path.split(os.path.sep)[-1]\n",
    "    \n",
    "    input_tensor = tf.convert_to_tensor(image_np)\n",
    "\n",
    "    #THe function accepts a batch\n",
    "    input_tensor = np.expand_dims(input_tensor, 0)\n",
    "\n",
    "    #function created from saved model\n",
    "    detections = detect_fn(input_tensor)\n",
    "    \n",
    "    #no of boxes that will be drawn based on threshold\n",
    "    n = np.array(detections['detection_scores'])\n",
    "    num = len(n[n>thresh])\n",
    "    \n",
    "    \n",
    "    num_detections = int(detections.pop('num_detections')) #100 detections\n",
    "    \n",
    "    \n",
    "    #Retain 100 detections only\n",
    "    detections = {key:value[0, :num_detections].numpy() for key,value in detections.items()}\n",
    "\n",
    "    #store num_detections back\n",
    "    detections['num_detections'] = num_detections\n",
    "    \n",
    "\n",
    "    #detection classes should be ints\n",
    "    detections['detection_classes'] = detections['detection_classes'].astype('int64')\n",
    "    \n",
    "    image_np_with_detections = image_np.copy()\n",
    "    viz_utils.visualize_boxes_and_labels_on_image_array(\n",
    "        image_np_with_detections,\n",
    "        detections['detection_boxes'],\n",
    "        detections['detection_classes'],\n",
    "        detections['detection_scores'],\n",
    "        category_index, \n",
    "        use_normalized_coordinates = True,\n",
    "        max_boxes_to_draw = 200,\n",
    "        min_score_thresh= thresh,\n",
    "        agnostic_mode=False,\n",
    "        line_thickness = 10)\n",
    "    \n",
    "    \n",
    "    dicto.update({img_name: num})\n",
    "    \n",
    "    write(img_name, image_np_with_detections)\n",
    "    #plt.figure(figsize = (12,10))\n",
    "    #plt.imshow(image_np_with_detections)\n",
    "    #print('Done')\n",
    "    return dicto\n",
    "    \n"
   ]
  },
  {
   "cell_type": "markdown",
   "id": "213a089e",
   "metadata": {},
   "source": [
    "## Running through  all the images in the test set"
   ]
  },
  {
   "cell_type": "code",
   "execution_count": null,
   "id": "719ec471",
   "metadata": {
    "scrolled": false
   },
   "outputs": [],
   "source": [
    "cnt = 0\n",
    "for path in image_paths:\n",
    "    dic = detectboxes(detect_fn, path , 0.5301)\n",
    "    cnt += 1\n",
    "    print(\"Image no: \", cnt)\n",
    "\n",
    "#Write image2products JSON to disk\n",
    "with open('trial2/image2products.json', 'w') as f:\n",
    "    json.dump(dic, f, indent = 4)\n",
    "    \n",
    "\n",
    "#Write the metrics got from evaluation to a JSON file:\n",
    "#metrics = {'mAP': 0.669, 'Precision':0.670, 'Recall': 0.726}\n",
    "#with open('Output Files/metrics.json', 'w') as f:\n",
    "#    json.dump(met, f, indent = 4)"
   ]
  },
  {
   "cell_type": "markdown",
   "id": "9b3f929d",
   "metadata": {},
   "source": [
    "# THE END"
   ]
  },
  {
   "cell_type": "code",
   "execution_count": null,
   "id": "8617129b",
   "metadata": {},
   "outputs": [],
   "source": []
  },
  {
   "cell_type": "code",
   "execution_count": null,
   "id": "acb59aea",
   "metadata": {},
   "outputs": [],
   "source": []
  },
  {
   "cell_type": "code",
   "execution_count": 9,
   "id": "dd01dcd2",
   "metadata": {},
   "outputs": [
    {
     "name": "stdout",
     "output_type": "stream",
     "text": [
      "{ is missing for a respective }\n",
      ") is missing for a respective (\n"
     ]
    }
   ],
   "source": [
    "from collections import Counter\n",
    "s ='{{([]}}}'\n",
    "\n",
    "a = dict(Counter(s))\n",
    "\n",
    "\n",
    "for k,v in a.items():\n",
    "    if k =='{':\n",
    "        if a['}'] < v:\n",
    "            print('} is missing for a respective {')\n",
    "            \n",
    "        elif a['}'] > v:\n",
    "            print('{ is missing for a respective }')\n",
    "    elif k == '[':\n",
    "        if a[']'] < v:\n",
    "            print('] is missing for a respective [')\n",
    "        elif a[']'] > v:\n",
    "            print('[ is missing for a respective ]')\n",
    "            \n",
    "    elif k == '(':\n",
    "        if ')' in a:\n",
    "            if a[')'] < v:\n",
    "                print(') is missing for a respective (')\n",
    "            elif a[')'] > v:\n",
    "                print('( is missing for a respective )')\n",
    "        else:\n",
    "            print(') is missing for a respective (')"
   ]
  },
  {
   "cell_type": "code",
   "execution_count": 2,
   "id": "45ff3de9",
   "metadata": {},
   "outputs": [
    {
     "data": {
      "text/plain": [
       "2"
      ]
     },
     "execution_count": 2,
     "metadata": {},
     "output_type": "execute_result"
    }
   ],
   "source": [
    "{ { ( [ ] } } }"
   ]
  },
  {
   "cell_type": "code",
   "execution_count": 11,
   "id": "68c360c3",
   "metadata": {},
   "outputs": [
    {
     "data": {
      "text/plain": [
       "[1, 2, 3, 4]"
      ]
     },
     "execution_count": 11,
     "metadata": {},
     "output_type": "execute_result"
    }
   ],
   "source": [
    "m = [1,2,3,4,5]\n",
    "m.pop()\n",
    "m"
   ]
  },
  {
   "cell_type": "code",
   "execution_count": null,
   "id": "43ee17cb",
   "metadata": {},
   "outputs": [],
   "source": []
  }
 ],
 "metadata": {
  "kernelspec": {
   "display_name": "CV",
   "language": "python",
   "name": "cv"
  },
  "language_info": {
   "codemirror_mode": {
    "name": "ipython",
    "version": 3
   },
   "file_extension": ".py",
   "mimetype": "text/x-python",
   "name": "python",
   "nbconvert_exporter": "python",
   "pygments_lexer": "ipython3",
   "version": "3.8.8"
  }
 },
 "nbformat": 4,
 "nbformat_minor": 5
}
