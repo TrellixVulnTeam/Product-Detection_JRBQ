{
 "cells": [
  {
   "cell_type": "markdown",
   "metadata": {},
   "source": [
    "# Training"
   ]
  },
  {
   "cell_type": "code",
   "execution_count": null,
   "metadata": {
    "id": "cXkTjQyQ28yY"
   },
   "outputs": [],
   "source": [
    "import numpy as np\n",
    "import tensorflow as tf\n",
    "import cv2\n",
    "import matplotlib.pyplot as plt\n",
    "\n",
    "import os"
   ]
  },
  {
   "cell_type": "markdown",
   "metadata": {},
   "source": [
    "## Defining paths"
   ]
  },
  {
   "cell_type": "code",
   "execution_count": null,
   "metadata": {
    "id": "fPjs79HU6prG"
   },
   "outputs": [],
   "source": [
    "research_path = '/content/drive/MyDrive/obj/Tensorflow/models/research/'\n",
    "training_path = '/content/drive/MyDrive/obj/Tensorflow/workspace/Training/'\n",
    "annot_path = '/content/drive/MyDrive/obj/Tensorflow/workspace/Training/annotations/' #labelmap, train.record, test.record\n",
    "images_path = '/content/drive/MyDrive/obj/Tensorflow/workspace/Training/images/' #train, test\n",
    "pre_trained_path = '/content/drive/MyDrive/obj/Tensorflow/workspace/Training/pre-trained-models/' # ssd_resnet50_v1_fpn_640x640_coco17_tpu-8\n",
    "models_path = '/content/drive/MyDrive/obj/Tensorflow/workspace/Training/models/' # my_ssd_resnet50_v1_fpn\n",
    "export_path = '/content/drive/MyDrive/obj/Tensorflow/workspace/Training/exported-models/'\n",
    "root_path = '/content/drive/MyDrive/obj/'\n",
    "\n",
    "# custom model details\n",
    "mymodel_name = 'ssd_mobilenet_v2' #Change this to set new model name\n",
    "model_used = mymodel_name + '/'  \n",
    "\n",
    "#change the url for new pre-trained-model:\n",
    "pretrain_dwd = 'http://download.tensorflow.org/models/object_detection/tf2/20200711/ssd_mobilenet_v2_fpnlite_640x640_coco17_tpu-8.tar.gz'\n",
    "pretrain_used = pretrain_dwd.split('/')[-1].split('.')[0] + '/' \n",
    "\n",
    "\n",
    "my_model_path = models_path + model_used\n",
    "my_model_config = my_model_path + 'pipeline.config'\n",
    "\n"
   ]
  },
  {
   "cell_type": "markdown",
   "metadata": {
    "id": "bi4Qt-TekpCg"
   },
   "source": [
    "## Installing COCO API"
   ]
  },
  {
   "cell_type": "code",
   "execution_count": null,
   "metadata": {
    "id": "M3aFxMtT3F02"
   },
   "outputs": [],
   "source": [
    "#compile all the proto buff files\n",
    "#%cd {research_path}\n",
    "#!protoc object_detection/protos/*.proto --python_out=.\n",
    "\n",
    "#COCO API Installation\n",
    "#%cd {root_path}\n",
    "#!git clone https://github.com/cocodataset/cocoapi.git\n",
    "#%cd cocoapi/PythonAPI\n",
    "#!make\n",
    "\n",
    "#!cp -r pycocotools {research_path}\n"
   ]
  },
  {
   "cell_type": "markdown",
   "metadata": {
    "id": "xyw99tdlkwIE"
   },
   "source": [
    "## Installing Object Detection API and testing it.\n"
   ]
  },
  {
   "cell_type": "code",
   "execution_count": null,
   "metadata": {
    "executionInfo": {
     "elapsed": 527,
     "status": "ok",
     "timestamp": 1629271231648,
     "user": {
      "displayName": "Sumit Kutty",
      "photoUrl": "https://lh3.googleusercontent.com/a-/AOh14GjGMf3ItqwLr1_dw-N5-CBbNYMMWNOhTq7QZnevDGM=s64",
      "userId": "00967948315961230719"
     },
     "user_tz": -330
    },
    "id": "5eW_Ak2z4lAB"
   },
   "outputs": [],
   "source": [
    "%cd {research_path}\n",
    "!cp object_detection/packages/tf2/setup.py .\n",
    "!python -m pip install --use-feature=2020-resolver .\n",
    "!pip install avro-python3==1.9.1\n",
    "!python install . #compile all files in the research folder\n",
    "#test\n",
    "!python object_detection/builders/model_builder_tf2_test.py"
   ]
  },
  {
   "cell_type": "markdown",
   "metadata": {
    "id": "cDZ3j0RX4mMC"
   },
   "source": [
    "## Download the Pre-Trained Model and extract from the tar file."
   ]
  },
  {
   "cell_type": "code",
   "execution_count": null,
   "metadata": {
    "id": "n22_9_1EfcY9"
   },
   "outputs": [],
   "source": [
    "%cd {pre_trained_path}\n",
    "pretrain_model = 'http://download.tensorflow.org/models/object_detection/tf2/20200711/ssd_mobilenet_v2_fpnlite_640x640_coco17_tpu-8.tar.gz'\n",
    "!wget pretrain_dwd\n",
    "!tar -xvf ssd_mobilenet_v2_fpnlite_640x640_coco17_tpu-8.tar.gz"
   ]
  },
  {
   "cell_type": "markdown",
   "metadata": {
    "id": "yfx9PFh44pnS"
   },
   "source": [
    "## Create a new model folder in %models and Copy the pipeline file to %models folder"
   ]
  },
  {
   "cell_type": "code",
   "execution_count": null,
   "metadata": {
    "id": "thk1wfn_4y7K"
   },
   "outputs": [],
   "source": [
    "!mkdir {my_model_path}\n",
    "\n",
    "!cp {pre_trained_path+pretrain_used+'pipeline.config'} {my_model_path}"
   ]
  },
  {
   "cell_type": "markdown",
   "metadata": {
    "id": "n8GeC8hv5L3Q"
   },
   "source": [
    "## Tweak the hyperparameters in pipeline config\n"
   ]
  },
  {
   "cell_type": "code",
   "execution_count": null,
   "metadata": {
    "id": "BIKjMiKE6ulv"
   },
   "outputs": [],
   "source": [
    "#after changing, copy model_main_tf2.py from object detection/research\n",
    "\n",
    "!cp {research_path+'object_detection/model_main_tf2.py'} {training_path}"
   ]
  },
  {
   "cell_type": "markdown",
   "metadata": {
    "id": "lxtT7VoI6vXr"
   },
   "source": [
    "## Training: Run the model_main_tf2.py file\n",
    "* The training produces checkpoints after a certain set of steps"
   ]
  },
  {
   "cell_type": "code",
   "execution_count": null,
   "metadata": {
    "executionInfo": {
     "elapsed": 5,
     "status": "ok",
     "timestamp": 1629271336908,
     "user": {
      "displayName": "Sumit Kutty",
      "photoUrl": "https://lh3.googleusercontent.com/a-/AOh14GjGMf3ItqwLr1_dw-N5-CBbNYMMWNOhTq7QZnevDGM=s64",
      "userId": "00967948315961230719"
     },
     "user_tz": -330
    },
    "id": "gqlQ_10fsO3q"
   },
   "outputs": [],
   "source": [
    "%cd {training_path}\n",
    "!python model_main_tf2.py --model_dir={my_model_path} --pipeline_config_path={my_model_config}"
   ]
  },
  {
   "cell_type": "markdown",
   "metadata": {},
   "source": [
    "## Evaluate\n",
    "* Using the last checkpoint after our training"
   ]
  },
  {
   "cell_type": "code",
   "execution_count": null,
   "metadata": {},
   "outputs": [],
   "source": [
    "!python model_main_tf2.py --model_dir=models/ssd_mobilenet_v2 --pipeline_config_path=models/ssd_mobilenet_v2/pipeline.config --checkpoint_dir=models/ssd_mobilenet_v2\n"
   ]
  },
  {
   "cell_type": "markdown",
   "metadata": {},
   "source": [
    "## Exporting the trained model as saving it as .pb file"
   ]
  },
  {
   "cell_type": "code",
   "execution_count": null,
   "metadata": {},
   "outputs": [],
   "source": [
    "#copying the exporter TF script and storing it in our training folder\n",
    "!cp ../../models/research/object_detection/exporter_main_v2.py .\n",
    "!python exporter_main_v2.py --input_type image_tensor --pipeline_config_path models/ssd_mobilenet_v2/pipeline.config --trained_checkpoint_dir models/ssd_mobilenet_v2 --output_directory exported_models/ssd_mobilenet_v2\n"
   ]
  }
 ],
 "metadata": {
  "colab": {
   "authorship_tag": "ABX9TyOSjmc2f0rfzny1J53BQQqv",
   "collapsed_sections": [],
   "mount_file_id": "1wAso-nMz5JwuG4lOX3viwzijLLdfN_l_",
   "name": "shelfcode.ipynb",
   "provenance": []
  },
  "kernelspec": {
   "display_name": "Python 3 (ipykernel)",
   "language": "python",
   "name": "python3"
  },
  "language_info": {
   "codemirror_mode": {
    "name": "ipython",
    "version": 3
   },
   "file_extension": ".py",
   "mimetype": "text/x-python",
   "name": "python",
   "nbconvert_exporter": "python",
   "pygments_lexer": "ipython3",
   "version": "3.8.8"
  }
 },
 "nbformat": 4,
 "nbformat_minor": 1
}
